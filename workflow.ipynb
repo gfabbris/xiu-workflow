{
 "cells": [
  {
   "cell_type": "markdown",
   "metadata": {},
   "source": [
    "# General Utility Functions for Data Conversion and Analysis at 6-ID-B\n",
    "\n",
    "All functions utilized in this notebook are found in ``utils.py``. The proper dependencies have been installed in the conda environment ``xiu-wf``. To activate this environment in the terminal (for running other Python scripts), use the command ```conda activate xiu-wf```. To use this environment as the Python kernel for this Jupyter notebook, select \"xiu-wf\" in the top righthand corner of the VSCode window.\n",
    "\n",
    "The focus of this workflow is to showcase (a) how to load spec data in Python, (b) plot and analyze 1D spec data, (c) convert 2D area detector data into reciprocal space, and (d) plot and analyze 3D reciprocal space volumes."
   ]
  },
  {
   "cell_type": "code",
   "execution_count": 1,
   "metadata": {},
   "outputs": [],
   "source": [
    "%gui qt\n",
    "\n",
    "import numpy as np # For general data manipulation\n",
    "\n",
    "import matplotlib # For static 2D plotting\n",
    "import matplotlib.pyplot as plt\n",
    "from mayavi import mlab # For interactive 3D plotting\n",
    "\n",
    "from spec2nexus import spec # For parsing through spec data files\n",
    "\n",
    "import utils # For local functions\n",
    "\n",
    "# Prerequisites for leveraging mayavi's 3D plotting windows\n",
    "matplotlib.use(\"Qt5Agg\")\n",
    "matplotlib.interactive(True)"
   ]
  },
  {
   "cell_type": "code",
   "execution_count": 2,
   "metadata": {},
   "outputs": [],
   "source": [
    "# Files paths for spec data and XML configuration files\n",
    "# Spec data can be read in without valid XML files, which are used for reciprocal space conversion\n",
    "spec_file_path = \"pm_npt/pmn_pt011_2_1.spec\"\n",
    "instrument_config_path = \"pm_npt/6IDB_Instrument_yPrimary_6IDB.xml\"\n",
    "detector_config_path = \"pm_npt/6IDB_Nanostrain_DetectorGeometry_740mm.xml\""
   ]
  },
  {
   "cell_type": "markdown",
   "metadata": {},
   "source": [
    "## Loading spec data\n",
    "\n",
    "Spec column data is loaded using the Python package ``spec2nexus``.\n",
    "\n",
    "Documentation is here: https://spec2nexus.readthedocs.io/en/latest/"
   ]
  },
  {
   "cell_type": "code",
   "execution_count": 3,
   "metadata": {},
   "outputs": [],
   "source": [
    "# Loads a spec data file\n",
    "spec_file = spec.SpecDataFile(spec_file_path)\n"
   ]
  },
  {
   "cell_type": "code",
   "execution_count": 4,
   "metadata": {},
   "outputs": [
    {
     "name": "stdout",
     "output_type": "stream",
     "text": [
      "Eta\n",
      "H\n",
      "K\n",
      "L\n",
      "Alpha\n",
      "Beta\n",
      "Epoch\n",
      "Seconds\n",
      "APD\n",
      "Ion_Ch_2\n",
      "Ion_Ch_3\n",
      "Ion_Ch_4\n",
      "Ion_Ch_5\n",
      "Detector\n",
      "trod\n",
      "Ringcurrent\n",
      "scan_bar\n",
      "Ion_Ch_7\n",
      "volt\n",
      "curr\n",
      "ROI0\n",
      "ROI0c\n",
      "Temp_con\n",
      "Temp_sam\n",
      "ccd_tot\n",
      "Gamry_I\n",
      "Gamry_V\n",
      "icr\n",
      "ocr\n",
      "ccd_sig\n",
      "imtot\n",
      "immax\n",
      "imroi2\n",
      "imroi3\n",
      "imroi4\n",
      "transm\n",
      "filters\n",
      "corrdet\n",
      "offset_mono\n",
      "ROI1\n",
      "ROI1c\n",
      "cap\n",
      "loss\n",
      "ac_array\n",
      "LI1iv\n",
      "LI1ov\n",
      "LI1ampv\n",
      "Rbv1\n",
      "Rbv2\n",
      "LI2ampv\n",
      "LI1R\n",
      "xroi1\n",
      "xroi1c\n",
      "xroi2\n",
      "xroi2c\n",
      "xsp_ocr\n",
      "imroi1\n"
     ]
    }
   ],
   "source": [
    "scan_number = 837\n",
    "\n",
    "for item in list(spec_file.getScan(scan_number).data.keys()):\n",
    "    print(item)"
   ]
  },
  {
   "cell_type": "code",
   "execution_count": 5,
   "metadata": {},
   "outputs": [],
   "source": [
    "fig, ax = utils.plot_spec_scan(scan_number, spec_file)"
   ]
  },
  {
   "cell_type": "markdown",
   "metadata": {},
   "source": [
    "## Loading image data for a spec scan"
   ]
  },
  {
   "cell_type": "code",
   "execution_count": 6,
   "metadata": {},
   "outputs": [],
   "source": [
    "scan_number = 837\n",
    "scan_image_directory = \"pm_npt/images/pmn_pt011_2_1/S\" + str(scan_number)\n",
    "scan = spec_file.getScan(scan_number)\n",
    "\n",
    "# Utility function to read raw tiff images and convert the set of images into a 3D numpy array\n",
    "# Output dimensions are (number_of_scans, detector_dim_1, detector_dim_2)\n",
    "raw_image_data = utils.get_raw_image_data(\n",
    "    spec_scan=scan,\n",
    "    instr_config_path=instrument_config_path,\n",
    "    image_dir=scan_image_directory\n",
    ")"
   ]
  },
  {
   "cell_type": "markdown",
   "metadata": {},
   "source": [
    "## Constructing reciprocal space map for a spec scan\n",
    "\n"
   ]
  },
  {
   "cell_type": "code",
   "execution_count": 7,
   "metadata": {},
   "outputs": [],
   "source": [
    "# Utility function to generate the HKL position for every point in the raw image data above\n",
    "# Output dimensions are (number_of_scans, detector_dim_1, detector_dim_2, 3 (H, K, L))\n",
    "rsm = utils.create_rsm(\n",
    "    spec_scan=scan, \n",
    "    instr_config_path=instrument_config_path, \n",
    "    det_config_path=detector_config_path\n",
    ")"
   ]
  },
  {
   "cell_type": "markdown",
   "metadata": {},
   "source": [
    "## Converting raw image data to reciprocal space\n",
    "\n",
    "Creating a reciprocal space volume of a scan's image data requires 2 input values from the user:\n",
    "\n",
    "- (1) The output shape of the 3D volume. This shape is a 3-value tuple that define the number of pixels in the H, K, and L directions, respectively.\n",
    "\n",
    "- (2) H, K, L extents for the output volume.\n",
    "\n",
    "The output from gridding the raw image data to reciprocal space is (1) a 3D numpy array containing the data and (2) a list containing the gridded coordinates for H, K, and L respectively."
   ]
  },
  {
   "cell_type": "code",
   "execution_count": 8,
   "metadata": {},
   "outputs": [],
   "source": [
    "rsm_data_shape = (200, 200, 500)\n",
    "\n",
    "# Auto-generated bounds for RS-mapped data\n",
    "h_min, h_max = np.amin(rsm[:,:,:,0]), np.amax(rsm[:,:,:,0])\n",
    "k_min, k_max = np.amin(rsm[:,:,:,1]), np.amax(rsm[:,:,:,1])\n",
    "l_min, l_max = np.amin(rsm[:,:,:,2]), np.amax(rsm[:,:,:,2])\n",
    "\n",
    "rsm_data_bounds = [(h_min, h_max), (k_min, k_max), (l_min, l_max)]\n",
    "\n",
    "rsm_data, rsm_data_coords = utils.grid_data(\n",
    "    raw_image_data=raw_image_data,\n",
    "    rsm=rsm,\n",
    "    shape=rsm_data_shape,\n",
    "    bounds=rsm_data_bounds\n",
    ")"
   ]
  },
  {
   "cell_type": "markdown",
   "metadata": {},
   "source": [
    "## 1D spec plotting"
   ]
  },
  {
   "cell_type": "markdown",
   "metadata": {},
   "source": [
    "### Plotting spec column data"
   ]
  },
  {
   "cell_type": "code",
   "execution_count": 11,
   "metadata": {},
   "outputs": [],
   "source": [
    "# %matplotlib inline\n",
    "# scans = list(range(342, 430))[0::8]\n",
    "scans = list(range(350, 430))[0::8]\n",
    "x=\"L\"\n",
    "data_columns = [\"imroi1\", \"imroi2\", \"imroi3\", \"imroi4\"]\n",
    "utils.plot_1d_data(\n",
    "    spec_data_file=spec_file,\n",
    "    scans=scans,\n",
    "    x=x,\n",
    "    y=data_columns\n",
    ")"
   ]
  },
  {
   "cell_type": "markdown",
   "metadata": {},
   "source": [
    "### Plotting FWHM, centroid, amplitude for a list of spec scans"
   ]
  },
  {
   "cell_type": "code",
   "execution_count": 12,
   "metadata": {},
   "outputs": [
    {
     "name": "stderr",
     "output_type": "stream",
     "text": [
      "/Users/gfabbris/GitHub/xiu-workflow/utils.py:189: UserWarning: The figure layout has changed to tight\n",
      "  fig.tight_layout()\n"
     ]
    }
   ],
   "source": [
    "# %matplotlib inline\n",
    "# scans = list(range(342, 430))[0::8]\n",
    "scans = list(range(350, 430))[0::8]\n",
    "\n",
    "x=\"L\"\n",
    "y=\"imroi1\"\n",
    "z=\"Temp_sam\"\n",
    "\n",
    "utils.plot_fwhm_cent_auc(\n",
    "    spec_data_file=spec_file,\n",
    "    scans=scans,\n",
    "    x=x,\n",
    "    y=y,\n",
    "    z=z\n",
    ")"
   ]
  },
  {
   "cell_type": "markdown",
   "metadata": {},
   "source": [
    "### Plotting d-spacing and strain % for a list of spec scans"
   ]
  },
  {
   "cell_type": "code",
   "execution_count": 19,
   "metadata": {},
   "outputs": [],
   "source": [
    "# %matplotlib inline\n",
    "\n",
    "scans = [\n",
    "    # 166,\n",
    "    171,\n",
    "    # 181,\n",
    "    186,\n",
    "    195,\n",
    "    200,\n",
    "    # 205,\n",
    "    # 210,\n",
    "    # 215,\n",
    "    # 220\n",
    "]\n",
    "\n",
    "photon_energy = 11.212 #keV\n",
    "wavelength = 12.398 / photon_energy\n",
    "offset = 0\n",
    "\n",
    "utils.plot_strain_series(\n",
    "    spec_data_file=spec_file,\n",
    "    scans=scans,\n",
    "    wavelength=wavelength,\n",
    "    offset=offset,\n",
    "    x_val=\"force\"\n",
    ")\n"
   ]
  },
  {
   "cell_type": "markdown",
   "metadata": {},
   "source": [
    "## RSM image data plotting"
   ]
  },
  {
   "cell_type": "markdown",
   "metadata": {},
   "source": [
    "### Plotting orthogonal 2D slices"
   ]
  },
  {
   "cell_type": "code",
   "execution_count": 20,
   "metadata": {},
   "outputs": [
    {
     "data": {
      "text/plain": [
       "[(1.8620008172519988, 2.1607839996572715),\n",
       " (0.8358167983471638, 1.1749461795288647),\n",
       " (0.8589544025556588, 1.1344090216454457)]"
      ]
     },
     "execution_count": 20,
     "metadata": {},
     "output_type": "execute_result"
    }
   ],
   "source": [
    "rsm_data_bounds"
   ]
  },
  {
   "cell_type": "code",
   "execution_count": 21,
   "metadata": {},
   "outputs": [],
   "source": [
    "# %matplotlib inline\n",
    "utils.plot_2d_orthogonal_slice(\n",
    "    data=rsm_data,\n",
    "    coords=rsm_data_coords,\n",
    "    x=(-0.02, 0.02),\n",
    "    y=1,\n",
    "    z=(2.9,3.45),\n",
    "    scale=\"log\",\n",
    "    contour=False,\n",
    "    cmap=\"jet\",\n",
    "    axes=[\"H\", \"K\", \"L\"]\n",
    ")"
   ]
  },
  {
   "cell_type": "markdown",
   "metadata": {},
   "source": [
    "### Plotting 3D isosurface volumes"
   ]
  },
  {
   "cell_type": "code",
   "execution_count": 22,
   "metadata": {},
   "outputs": [],
   "source": [
    "# Isosurface (contour)\n",
    "# %matplotlib qt\n",
    "utils.plot_3d_isosurface(rsm_data, contours=30, alpha=0.05, cmap=\"jet\")"
   ]
  },
  {
   "cell_type": "markdown",
   "metadata": {},
   "source": [
    "### Plotting 1D line cuts for a list of scans"
   ]
  },
  {
   "cell_type": "code",
   "execution_count": 13,
   "metadata": {},
   "outputs": [
    {
     "data": {
      "text/plain": [
       "[(-0.03407236689917556, 0.025476092219878486),\n",
       " (0.8780944255045247, 1.1495686409521408),\n",
       " (2.4275359727669854, 3.5529869037164152)]"
      ]
     },
     "execution_count": 13,
     "metadata": {},
     "output_type": "execute_result"
    }
   ],
   "source": [
    "rsm_data_bounds"
   ]
  },
  {
   "cell_type": "code",
   "execution_count": 23,
   "metadata": {},
   "outputs": [
    {
     "data": {
      "text/plain": [
       "96.6582798973775"
      ]
     },
     "execution_count": 23,
     "metadata": {},
     "output_type": "execute_result"
    }
   ],
   "source": [
    "utils.cap_to_force(1.602, 300)"
   ]
  },
  {
   "cell_type": "code",
   "execution_count": 14,
   "metadata": {
    "tags": []
   },
   "outputs": [
    {
     "data": {
      "text/plain": [
       "'The function is not working properly. The end goal was to plot a series of\\nline cuts (with a pixel radius) w.r.t. specific HKL endpoints. Error could be\\nin either the data-smoothing step or in the matplotlib axis creation step.\\nApologies for the messy functions. This was a last-minute hack job. \\n\\nBest of luck, \\nHenry\\n'"
      ]
     },
     "execution_count": 14,
     "metadata": {},
     "output_type": "execute_result"
    }
   ],
   "source": [
    "'''%matplotlib inline\n",
    "\n",
    "scans = [166, 171]\n",
    "z = \"Temp_sam\"\n",
    "point_1 = (0, 1.00, 2.7) # (H, K, L)\n",
    "point_2 = (0, 1.00, 3.3) # (H, K, L)\n",
    "\n",
    "\n",
    "utils.plot_1d_line_cuts(\n",
    "    spec_data_file=spec_file,\n",
    "    scans=scans,\n",
    "    point_1=point_1,\n",
    "    point_2=point_2,\n",
    "    z_val=z,\n",
    "    instr_config_path=instrument_config_path, \n",
    "    det_config_path=detector_config_path,\n",
    "    plot_3d=False,\n",
    "    radius=2,\n",
    "    log_scale=False\n",
    ")\n",
    "'''\n",
    "\"\"\"The function is not working properly. The end goal was to plot a series of\n",
    "line cuts (with a pixel radius) w.r.t. specific HKL endpoints. Error could be\n",
    "in either the data-smoothing step or in the matplotlib axis creation step.\n",
    "Apologies for the messy functions. This was a last-minute hack job. \n",
    "\n",
    "Best of luck, \n",
    "Henry\n",
    "\"\"\"\n"
   ]
  },
  {
   "cell_type": "code",
   "execution_count": null,
   "metadata": {},
   "outputs": [],
   "source": []
  }
 ],
 "metadata": {
  "kernelspec": {
   "display_name": "Python 3.8.17 64-bit ('xiu-wf': conda)",
   "metadata": {
    "interpreter": {
     "hash": "cfe138997e711fe0a791b3ecc11161f5999488be9d23c2ef1b46a340e0987e91"
    }
   },
   "name": "python3"
  },
  "language_info": {
   "codemirror_mode": {
    "name": "ipython",
    "version": 3
   },
   "file_extension": ".py",
   "mimetype": "text/x-python",
   "name": "python",
   "nbconvert_exporter": "python",
   "pygments_lexer": "ipython3",
   "version": "3.8.17"
  },
  "orig_nbformat": 2
 },
 "nbformat": 4,
 "nbformat_minor": 2
}
